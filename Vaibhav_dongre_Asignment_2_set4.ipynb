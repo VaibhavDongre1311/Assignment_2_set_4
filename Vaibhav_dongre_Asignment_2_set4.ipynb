{
  "nbformat": 4,
  "nbformat_minor": 0,
  "metadata": {
    "colab": {
      "provenance": []
    },
    "kernelspec": {
      "name": "python3",
      "display_name": "Python 3"
    },
    "language_info": {
      "name": "python"
    }
  },
  "cells": [
    {
      "cell_type": "markdown",
      "source": [
        "1.\tExamine the following normal Quantile plots carefully. Which of these plots indicates that the data …\n",
        "\n",
        "I.\tAre nearly normal?\n",
        "\n",
        "C\n",
        "\n",
        "II.\tHave a bimodal distribution? (One way to recognize a bimodal shape is a “gap” in the spacing of adjacent data values.)\n",
        "\n",
        "B and D\n",
        "\n",
        "III.\tAre skewed (i.e. not symmetric) ?\n",
        "\n",
        "A ,Band D\n",
        "\n",
        "IV.\tHave outliers on both sides of the center?\n",
        "\n",
        "A and B\n",
        " \n",
        "\n",
        "\n"
      ],
      "metadata": {
        "id": "FTQqD3gzLMxZ"
      }
    },
    {
      "cell_type": "markdown",
      "source": [
        "\n",
        "\t\n",
        "**2.**For each of the following statements, indicate whether it is True/False. \n",
        "\t\n",
        "If false, explain why.\n",
        "\n",
        "The manager of a warehouse monitors the volume of shipments made by the delivery team. The automated tracking system tracks every package as it moves through the facility. A sample of 25 packages is selected and weighed every day. Based on current contracts with customers, the weights should have μ = 22 lbs. and σ = 5 lbs.\n",
        "\n",
        "**(i)**Before using a normal model for the sampling distribution of the average     package weights, the manager must confirm that weights of individual packages are normally distributed.\n",
        "\n",
        "**(ii)**The standard error of the daily average SE(x ̅) = 1.\n"
      ],
      "metadata": {
        "id": "LZQLHejuixj1"
      }
    },
    {
      "cell_type": "markdown",
      "source": [
        "**Answer:**\n",
        "**(I)**\n",
        "# False \n",
        "it is invalid to take a weight of individual packages and confirm that it follows normal distribution before using a normal model for the sampling distribution. The Sample Central Limit Theorem states that the sampling distribution of the samples mean approaches normal distribution as the sample size is large enough.\n",
        "\n",
        "**(ii)**\n",
        "# True \n",
        ". Standard error is sample standard deviation / Square root of (number    of sample)\n",
        "So SE=1"
      ],
      "metadata": {
        "id": "xIZFX0MnjQoR"
      }
    },
    {
      "cell_type": "markdown",
      "source": [
        "**3.**\tAuditors at a small community bank randomly sample 100 withdrawal transactions \n",
        "\n",
        "made during the week at an ATM machine located near the bank’s main branch.\n",
        "\n",
        "Over the past 2 years, the average withdrawal amount has been $50  with  a standard deviation of  $40. \n",
        "\n",
        "Since audit investigations are typically expensive, the auditors decide to not initiate further investigations \n",
        " \n",
        "are typically expensive, the auditors decide to not initiate further investigations if \n",
        "\n",
        "the mean transaction amount of the sample is between $45  and  $55. What is the\n",
        "\n",
        "probability that in any given week, there will be an investigation?\n",
        "\n",
        "\n",
        "A.\t1.25%\n",
        "\n",
        "B.\t2.5%\n",
        "\n",
        "C.\t10.55%\n",
        "\n",
        "D.\t21.1%\n",
        "\n",
        "E.\t50%\n",
        "\n",
        "Answer:\n"
      ],
      "metadata": {
        "id": "eMxIWBtWmqXt"
      }
    },
    {
      "cell_type": "code",
      "source": [
        "import scipy.stats as stats\n",
        "import numpy as np\n",
        "\n",
        "\n",
        "mean = 50\n",
        "std = 40\n",
        "\n",
        "n = 100\n",
        "\n",
        "# the population standard deviation \n",
        "p_std=40/np.sqrt(100) \n",
        "\n",
        "lower = 45\n",
        "upper = 55\n",
        "z_lower = (lower - mean) / p_std\n",
        "z_upper = (upper - mean) / p_std\n",
        "\n",
        "# Compute the probability of the sample mean being between the lower and upper limits\n",
        "prob = stats.norm.cdf(z_upper) - stats.norm.cdf(z_lower)\n",
        "\n",
        "\n",
        "\n",
        "#probailty that in any given week, there will be an investigation\n",
        "proba=1-prob\n",
        "precentage=proba*100\n",
        "print(proba)"
      ],
      "metadata": {
        "colab": {
          "base_uri": "https://localhost:8080/"
        },
        "id": "FAgF-_2Di4FD",
        "outputId": "3f1c76ab-6d24-4a9e-fe4e-0f386bfafa4c"
      },
      "execution_count": null,
      "outputs": [
        {
          "output_type": "stream",
          "name": "stdout",
          "text": [
            "0.2112995473337107\n"
          ]
        }
      ]
    },
    {
      "cell_type": "markdown",
      "source": [
        "# Ans#\n",
        " probailty that in any given week, there will be an investigation is 21.1%"
      ],
      "metadata": {
        "id": "gKWWDAqjk-Yo"
      }
    },
    {
      "cell_type": "code",
      "source": [],
      "metadata": {
        "id": "Jw0FRX9F8Q6U"
      },
      "execution_count": null,
      "outputs": []
    },
    {
      "cell_type": "markdown",
      "source": [
        "**4.**\tThe auditors from the above example would like to maintain the probability\n",
        "\n",
        "  of investigation to 5%. Which of the following represents the minimum number\n",
        "\n",
        "  transactions that they should sample if they do not want to change the \n",
        "\n",
        "  thresholds of 45 and 55? Assume that the sample statistics remain unchanged.\n",
        "\n",
        "**A**.\t144\n",
        "\n",
        "**B.**\t150\n",
        "\n",
        "**C.**\t196\n",
        "\n",
        "**D.**\t250\n",
        "\n",
        "**E.**\tNot enough information\n"
      ],
      "metadata": {
        "id": "odzdEcNWqJcn"
      }
    },
    {
      "cell_type": "code",
      "source": [
        "t_value=stats.t.ppf((1-0.05/2),99)\n",
        "t_value\n",
        "n=(40*1.96)**2/25\n",
        "print(n)   "
      ],
      "metadata": {
        "colab": {
          "base_uri": "https://localhost:8080/"
        },
        "id": "H4sIw7jUtRy9",
        "outputId": "c645992e-674d-4895-fbdd-67503d25d814"
      },
      "execution_count": null,
      "outputs": [
        {
          "output_type": "stream",
          "name": "stdout",
          "text": [
            "245.86240000000006\n"
          ]
        }
      ]
    },
    {
      "cell_type": "markdown",
      "source": [
        "# **Answer**\n",
        "\n",
        "**D.**250"
      ],
      "metadata": {
        "id": "XxFLlMgBuliu"
      }
    },
    {
      "cell_type": "markdown",
      "source": [
        "**5.**\tAn educational startup that helps MBA aspirants write their essays is targeting \n",
        "\n",
        "individuals who have taken GMAT in 2012 and have expressed interest in applying to \n",
        "\n",
        "FT top 20 b-schools. There are** 40000** such individuals with an average GMAT score of\n",
        "\n",
        "**720** and a standard deviation of **120**. The scores are distributed between **650** and **790**  with \n",
        "\n",
        "a very long and thin tail towards the higher end resulting in substantial skewness. \n",
        "\n",
        "Which of the following is likely to be true for randomly chosen samples of aspirants?\n",
        "\n",
        "A.\tThe standard deviation of the scores within any sample will be 120.\n",
        "\n",
        "B.\tThestandard deviation of the mean of across several samples will be 120.\n",
        "\n",
        "C.\tThe mean score in any sample will be 720.\n",
        "\n",
        "D.\tThe average of the mean across several samples will be 720.\n",
        "\n",
        "E.\tThe standard deviation of the mean across several samples will be 0.60\n"
      ],
      "metadata": {
        "id": "5UMWrWwAx_5Y"
      }
    },
    {
      "cell_type": "code",
      "source": [
        "X_avg=720\n",
        "STD_samp=120\n",
        "n=40000\n",
        "#Standard_deviation_of_the_mean_across_several_samples is Standard_Error\n",
        "Standard_Error=STD_samp/np.sqrt(n)\n",
        "print(Standard_Error)"
      ],
      "metadata": {
        "colab": {
          "base_uri": "https://localhost:8080/"
        },
        "id": "r4U2ArWeyRZp",
        "outputId": "5b811e5e-c9e9-4628-f330-39a45b340135"
      },
      "execution_count": null,
      "outputs": [
        {
          "output_type": "stream",
          "name": "stdout",
          "text": [
            "0.6\n"
          ]
        }
      ]
    },
    {
      "cell_type": "markdown",
      "source": [
        "**Answer**\n",
        "\n",
        "**E.**True"
      ],
      "metadata": {
        "id": "wHCKPb9UyNpn"
      }
    }
  ]
}